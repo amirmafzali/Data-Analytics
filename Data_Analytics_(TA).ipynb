{
  "nbformat": 4,
  "nbformat_minor": 0,
  "metadata": {
    "colab": {
      "provenance": [],
      "authorship_tag": "ABX9TyN5X/RIO0AcaWGMuIhlNB23",
      "include_colab_link": true
    },
    "kernelspec": {
      "name": "python3",
      "display_name": "Python 3"
    },
    "language_info": {
      "name": "python"
    }
  },
  "cells": [
    {
      "cell_type": "markdown",
      "metadata": {
        "id": "view-in-github",
        "colab_type": "text"
      },
      "source": [
        "<a href=\"https://colab.research.google.com/github/amirmafzali/Machine-learning_course/blob/main/Data_Analytics_(TA).ipynb\" target=\"_parent\"><img src=\"https://colab.research.google.com/assets/colab-badge.svg\" alt=\"Open In Colab\"/></a>"
      ]
    },
    {
      "cell_type": "markdown",
      "source": [
        "### **Google Colab**\n",
        "---\n",
        "1. Open google colab from [here](https://colab.research.google.com/)\n",
        "2. Open new notebook\n"
      ],
      "metadata": {
        "id": "WfoNd3yEs37w"
      }
    },
    {
      "cell_type": "markdown",
      "source": [
        "### **Jupyter Notebook Installation**\n",
        "\n",
        "\n",
        "---\n",
        "\n",
        "\n",
        "1.   Download the last version of Anaconda from [here](https://www.anaconda.com/products/distribution)\n",
        "2.   Install Anaconda by following instruction on the download page\n",
        "\n",
        "1.   Run Jupyter using Anaconda adds to your start menu or running \"Jupyter notebook\" command in Anaconda prompt\n",
        "2. Open new python3\n",
        "\n"
      ],
      "metadata": {
        "id": "1GdXkEGsnl0Z"
      }
    },
    {
      "cell_type": "markdown",
      "source": [
        "# **Pandas & Numpy**"
      ],
      "metadata": {
        "id": "MBdmUxP1pkBI"
      }
    },
    {
      "cell_type": "code",
      "source": [
        "teachers_name = ['alex','mary','steve']\n",
        "teachers_age = [52,61,48]\n",
        "print(teachers_name)\n",
        "print(teachers_age)\n",
        "\n",
        "teachers = list(zip(teachers_name,teachers_age))\n",
        "teachers"
      ],
      "metadata": {
        "colab": {
          "base_uri": "https://localhost:8080/"
        },
        "id": "n5g1PHLvx9tE",
        "outputId": "889a35f7-39b9-4292-f106-07302a7b2a23"
      },
      "execution_count": 14,
      "outputs": [
        {
          "output_type": "stream",
          "name": "stdout",
          "text": [
            "['alex', 'mary', 'steve']\n",
            "[52, 61, 48]\n"
          ]
        },
        {
          "output_type": "execute_result",
          "data": {
            "text/plain": [
              "[('alex', 52), ('mary', 61), ('steve', 48)]"
            ]
          },
          "metadata": {},
          "execution_count": 14
        }
      ]
    },
    {
      "cell_type": "code",
      "source": [
        "students = {\n",
        "    'name' : ['jack','nick','john'],\n",
        "    'age' : [20,18,19]\n",
        "}\n",
        "students"
      ],
      "metadata": {
        "colab": {
          "base_uri": "https://localhost:8080/"
        },
        "id": "vzurodgNws-c",
        "outputId": "556425d8-600a-4c42-b62d-ac39f7915f9e"
      },
      "execution_count": 13,
      "outputs": [
        {
          "output_type": "execute_result",
          "data": {
            "text/plain": [
              "{'name': ['jack', 'nick', 'john'], 'age': [20, 18, 19]}"
            ]
          },
          "metadata": {},
          "execution_count": 13
        }
      ]
    },
    {
      "cell_type": "code",
      "source": [
        "import numpy as np"
      ],
      "metadata": {
        "id": "KVKlEnPIzdpA"
      },
      "execution_count": 15,
      "outputs": []
    },
    {
      "cell_type": "code",
      "source": [],
      "metadata": {
        "id": "3kfXRnfq0Qjs"
      },
      "execution_count": null,
      "outputs": []
    },
    {
      "cell_type": "markdown",
      "source": [
        "# ***4. Visualization***"
      ],
      "metadata": {
        "id": "PD7nSNzKqde7"
      }
    },
    {
      "cell_type": "markdown",
      "source": [
        "# ***5. Data Analysis***"
      ],
      "metadata": {
        "id": "ZapBhXGQqdjb"
      }
    }
  ]
}